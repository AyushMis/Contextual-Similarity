{
 "cells": [
  {
   "cell_type": "code",
   "execution_count": 2,
   "metadata": {},
   "outputs": [
    {
     "name": "stdout",
     "output_type": "stream",
     "text": [
      "Importing Jupyter notebook from utilities.ipynb\n"
     ]
    }
   ],
   "source": [
    "import torch\n",
    "import torch.autograd as autograd\n",
    "import torch.nn as nn\n",
    "import torch.nn.functional as F\n",
    "import torch.optim as optim\n",
    "from nltk.corpus import stopwords\n",
    "from nltk.stem.wordnet import WordNetLemmatizer\n",
    "from nltk.tokenize import word_tokenize\n",
    "from nltk.stem.porter import PorterStemmer\n",
    "import nbimporter\n",
    "import utilities\n",
    "from utilities import CBOW\n",
    "from utilities import preprocess, prepareData, make_context_vector"
   ]
  },
  {
   "cell_type": "code",
   "execution_count": 3,
   "metadata": {},
   "outputs": [
    {
     "name": "stdout",
     "output_type": "stream",
     "text": [
      "65\n",
      "79\n"
     ]
    }
   ],
   "source": [
    "CONTEXT_SIZE = 2\n",
    "EMBEDDING_DIM = 10\n",
    "\n",
    "#file = open('rural.txt')\n",
    "#raw_text1 = file.read()\n",
    "raw_text1 = \"\"\"When forty winters shall besiege thy brow,\n",
    "And dig deep trenches in thy beauty's field,\n",
    "Thy youth's proud livery so gazed on now,\n",
    "Will be a totter'd weed of small worth held:\n",
    "Then being asked, where all thy beauty lies,\n",
    "Where all the treasure of thy lusty days;\n",
    "To say, within thine own deep sunken eyes,\n",
    "Were an all-eating shame, and thriftless praise.\n",
    "How much more praise deserv'd thy beauty's use,\n",
    "If thou couldst answer 'This fair child of mine\n",
    "Shall sum my count, and make my old excuse,'\n",
    "Proving his beauty by succession thine!\n",
    "This were to be new made when thou art old,\n",
    "And see thy blood warm when thou feel'st it cold.\"\"\"\n",
    "\n",
    "raw_text = preprocess(raw_text1)\n",
    "data = prepareData(raw_text)\n",
    "\n",
    "vocab = set(raw_text)\n",
    "vocab_size = len(vocab)\n",
    "print(vocab_size)\n",
    "\n",
    "word_to_ix = {word: i for i, word in enumerate(vocab)}\n",
    "\n",
    "print(len(data))"
   ]
  },
  {
   "cell_type": "code",
   "execution_count": 4,
   "metadata": {},
   "outputs": [],
   "source": [
    "losses = []\n",
    "loss_function = nn.NLLLoss()\n",
    "model = CBOW(len(vocab), EMBEDDING_DIM, 2*CONTEXT_SIZE)\n",
    "optimizer = optim.SGD(model.parameters(), lr=0.001)"
   ]
  },
  {
   "cell_type": "code",
   "execution_count": 5,
   "metadata": {},
   "outputs": [],
   "source": [
    "count = 0\n",
    "for epoch in range(10):\n",
    "    total_loss = torch.Tensor([0])\n",
    "    for context, target in data:\n",
    "\n",
    "        context_var = make_context_vector(context, word_to_ix)\n",
    "        \n",
    "        model.zero_grad()\n",
    "\n",
    "        log_probs = model(context_var)\n",
    "        #print(log_probs)\n",
    "        loss = loss_function(log_probs,  autograd.Variable(\n",
    "            torch.LongTensor([word_to_ix[target]])))\n",
    "\n",
    "        loss.backward()\n",
    "        optimizer.step()\n",
    "\n",
    "        total_loss += loss.data\n",
    "        count+=1\n",
    "    if count%20==0:\n",
    "        print(\"total loss: \",total_loss)\n",
    "    losses.append(total_loss)\n",
    "#print(losses)"
   ]
  },
  {
   "cell_type": "code",
   "execution_count": 6,
   "metadata": {},
   "outputs": [
    {
     "data": {
      "text/plain": [
       "'vectors = make_context_vector(vocab, word_to_ix)\\n#print(vectors.view(1,-1))\\nprint(word_to_ix)\\nx = autograd.Variable(torch.LongTensor([word_to_ix[\"winter\"]]))\\nprint(x.size())\\nten = autograd.Variable(torch.LongTensor([word_to_ix[\"shall\"]]))\\n#print(ten.view(1,-1))\\nprint(model.parameters)\\nvocab_var = make_context_vector(vocab,word_to_ix)\\na = model.init_embedding(vocab_var)\\nprint(a[0][:10])\\nprint(a[0][10:20])\\ntorch.save(model,\\'modelNGram.pth\\')'"
      ]
     },
     "execution_count": 6,
     "metadata": {},
     "output_type": "execute_result"
    }
   ],
   "source": [
    "\"\"\"vectors = make_context_vector(vocab, word_to_ix)\n",
    "#print(vectors.view(1,-1))\n",
    "print(word_to_ix)\n",
    "x = autograd.Variable(torch.LongTensor([word_to_ix[\"winter\"]]))\n",
    "print(x.size())\n",
    "ten = autograd.Variable(torch.LongTensor([word_to_ix[\"shall\"]]))\n",
    "#print(ten.view(1,-1))\n",
    "print(model.parameters)\n",
    "vocab_var = make_context_vector(vocab,word_to_ix)\n",
    "a = model.init_embedding(vocab_var)\n",
    "print(a[0][:10])\n",
    "print(a[0][10:20])\n",
    "torch.save(model,'modelNGram.pth')\"\"\""
   ]
  },
  {
   "cell_type": "code",
   "execution_count": null,
   "metadata": {},
   "outputs": [],
   "source": []
  },
  {
   "cell_type": "code",
   "execution_count": null,
   "metadata": {},
   "outputs": [],
   "source": []
  }
 ],
 "metadata": {
  "kernelspec": {
   "display_name": "Python 3",
   "language": "python",
   "name": "python3"
  },
  "language_info": {
   "codemirror_mode": {
    "name": "ipython",
    "version": 3
   },
   "file_extension": ".py",
   "mimetype": "text/x-python",
   "name": "python",
   "nbconvert_exporter": "python",
   "pygments_lexer": "ipython3",
   "version": "3.5.2"
  }
 },
 "nbformat": 4,
 "nbformat_minor": 2
}
